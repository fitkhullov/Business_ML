{
 "cells": [
  {
   "cell_type": "code",
   "execution_count": 1,
   "id": "c1bc3622-c5ae-46f4-aeae-5024c77682b7",
   "metadata": {},
   "outputs": [],
   "source": [
    "import numpy as np\n",
    "import pandas as pd\n",
    "import itertools\n",
    "import matplotlib.pyplot as plt\n",
    "\n",
    "from sklearn.linear_model import LogisticRegression\n",
    "from sklearn.ensemble import GradientBoostingClassifier\n",
    "from sklearn.model_selection import cross_val_score, train_test_split\n",
    "from sklearn.metrics import precision_recall_curve, roc_curve, roc_auc_score, confusion_matrix, f1_score, recall_score, precision_score"
   ]
  },
  {
   "cell_type": "markdown",
   "id": "dffb404e-253c-4f17-bcee-3f696472164f",
   "metadata": {},
   "source": [
    "$$\\text{Evaluate Results}$$"
   ]
  },
  {
   "cell_type": "code",
   "execution_count": 2,
   "id": "5a1a3344-dd2f-449b-8e65-c9d1888e2192",
   "metadata": {
    "jupyter": {
     "source_hidden": true
    },
    "tags": []
   },
   "outputs": [],
   "source": [
    "def evaluate_results(y_test, y_predict):\n",
    "    print('Classification results:')\n",
    "    f1 = f1_score(y_test, y_predict)\n",
    "    print(f\"f1: {f1 * 100.0:.2f}%\") \n",
    "    rec = recall_score(y_test, y_predict, average='binary')\n",
    "    print(f\"recall: {rec * 100.0:.2f}%\") \n",
    "    prc = precision_score(y_test, y_predict, average='binary')\n",
    "    print(f\"precision: {prc * 100.0:.2f}%\" )"
   ]
  },
  {
   "cell_type": "code",
   "execution_count": 3,
   "id": "cf060be3-859f-42e6-8ff0-a309bb1458c3",
   "metadata": {},
   "outputs": [],
   "source": [
    "path = 'https://archive.ics.uci.edu/ml/machine-learning-databases/iris/iris.data'\n",
    "columns = ['sepal length in cm', \n",
    "           'sepal width in cm', \n",
    "           'petal length in cm', \n",
    "           'petal width in cm',\n",
    "           'class']"
   ]
  },
  {
   "cell_type": "code",
   "execution_count": 4,
   "id": "f41f4109-fe6c-41c7-b9ce-596973858db1",
   "metadata": {},
   "outputs": [
    {
     "data": {
      "text/html": [
       "<div>\n",
       "<style scoped>\n",
       "    .dataframe tbody tr th:only-of-type {\n",
       "        vertical-align: middle;\n",
       "    }\n",
       "\n",
       "    .dataframe tbody tr th {\n",
       "        vertical-align: top;\n",
       "    }\n",
       "\n",
       "    .dataframe thead th {\n",
       "        text-align: right;\n",
       "    }\n",
       "</style>\n",
       "<table border=\"1\" class=\"dataframe\">\n",
       "  <thead>\n",
       "    <tr style=\"text-align: right;\">\n",
       "      <th></th>\n",
       "      <th>sepal length in cm</th>\n",
       "      <th>sepal width in cm</th>\n",
       "      <th>petal length in cm</th>\n",
       "      <th>petal width in cm</th>\n",
       "      <th>class</th>\n",
       "    </tr>\n",
       "  </thead>\n",
       "  <tbody>\n",
       "    <tr>\n",
       "      <th>0</th>\n",
       "      <td>5.1</td>\n",
       "      <td>3.5</td>\n",
       "      <td>1.4</td>\n",
       "      <td>0.2</td>\n",
       "      <td>Iris-setosa</td>\n",
       "    </tr>\n",
       "    <tr>\n",
       "      <th>1</th>\n",
       "      <td>4.9</td>\n",
       "      <td>3.0</td>\n",
       "      <td>1.4</td>\n",
       "      <td>0.2</td>\n",
       "      <td>Iris-setosa</td>\n",
       "    </tr>\n",
       "    <tr>\n",
       "      <th>2</th>\n",
       "      <td>4.7</td>\n",
       "      <td>3.2</td>\n",
       "      <td>1.3</td>\n",
       "      <td>0.2</td>\n",
       "      <td>Iris-setosa</td>\n",
       "    </tr>\n",
       "    <tr>\n",
       "      <th>3</th>\n",
       "      <td>4.6</td>\n",
       "      <td>3.1</td>\n",
       "      <td>1.5</td>\n",
       "      <td>0.2</td>\n",
       "      <td>Iris-setosa</td>\n",
       "    </tr>\n",
       "    <tr>\n",
       "      <th>4</th>\n",
       "      <td>5.0</td>\n",
       "      <td>3.6</td>\n",
       "      <td>1.4</td>\n",
       "      <td>0.2</td>\n",
       "      <td>Iris-setosa</td>\n",
       "    </tr>\n",
       "  </tbody>\n",
       "</table>\n",
       "</div>"
      ],
      "text/plain": [
       "   sepal length in cm  sepal width in cm  petal length in cm  \\\n",
       "0                 5.1                3.5                 1.4   \n",
       "1                 4.9                3.0                 1.4   \n",
       "2                 4.7                3.2                 1.3   \n",
       "3                 4.6                3.1                 1.5   \n",
       "4                 5.0                3.6                 1.4   \n",
       "\n",
       "   petal width in cm        class  \n",
       "0                0.2  Iris-setosa  \n",
       "1                0.2  Iris-setosa  \n",
       "2                0.2  Iris-setosa  \n",
       "3                0.2  Iris-setosa  \n",
       "4                0.2  Iris-setosa  "
      ]
     },
     "execution_count": 4,
     "metadata": {},
     "output_type": "execute_result"
    }
   ],
   "source": [
    "df = pd.read_csv(path, names = columns)\n",
    "df.head()"
   ]
  },
  {
   "cell_type": "code",
   "execution_count": 5,
   "id": "5190eff2-c7b5-4497-be5c-9670737c25b4",
   "metadata": {},
   "outputs": [
    {
     "data": {
      "text/plain": [
       "Iris-virginica     50\n",
       "Iris-versicolor    50\n",
       "Iris-setosa        50\n",
       "Name: class, dtype: int64"
      ]
     },
     "execution_count": 5,
     "metadata": {},
     "output_type": "execute_result"
    }
   ],
   "source": [
    "df['class'].value_counts()"
   ]
  },
  {
   "cell_type": "code",
   "execution_count": 6,
   "id": "d3b74788-3c1b-4668-918e-a9b32334f373",
   "metadata": {},
   "outputs": [],
   "source": [
    "df['class'] = df['class'].apply(lambda x: 1 if x == 'Iris-virginica' else 0)"
   ]
  },
  {
   "cell_type": "code",
   "execution_count": 7,
   "id": "ecc7948a-0e9b-43d4-8238-792feebe8301",
   "metadata": {},
   "outputs": [],
   "source": [
    "X_train, X_test, y_train, y_test = train_test_split(df.drop(['class'], axis=1), df['class'], test_size = 0.33, random_state = 42)"
   ]
  },
  {
   "cell_type": "code",
   "execution_count": 8,
   "id": "896fabef-5f16-4efe-bbf8-08749c3a4713",
   "metadata": {},
   "outputs": [
    {
     "name": "stdout",
     "output_type": "stream",
     "text": [
      "Classification results:\n",
      "f1: 96.77%\n",
      "recall: 93.75%\n",
      "precision: 100.00%\n"
     ]
    }
   ],
   "source": [
    "clf = GradientBoostingClassifier(random_state = 42)\n",
    "clf.fit(X_train, y_train)\n",
    "y_train_pred = clf.predict(X_train)\n",
    "y_test_pred = clf.predict(X_test)\n",
    "\n",
    "evaluate_results(y_test, y_test_pred)"
   ]
  },
  {
   "cell_type": "code",
   "execution_count": 9,
   "id": "e09b767f-87c9-4729-9513-2ca977f2f307",
   "metadata": {},
   "outputs": [],
   "source": [
    "f_list, r_list, p_list = [], [], []\n",
    "\n",
    "f_list.append(f1_score(y_test, y_test_pred))\n",
    "r_list.append(recall_score(y_test, y_test_pred))\n",
    "p_list.append(precision_score(y_test, y_test_pred))\n"
   ]
  },
  {
   "cell_type": "code",
   "execution_count": 11,
   "id": "aa4efa99-1097-4d1a-a74b-0490e1b58856",
   "metadata": {},
   "outputs": [
    {
     "name": "stdout",
     "output_type": "stream",
     "text": [
      "Using 10/34 as positives and unlabeling the rest\n"
     ]
    }
   ],
   "source": [
    "mod_data = X_train.copy()\n",
    "mod_data['label'] = y_train\n",
    "\n",
    "pos_indx = mod_data.loc[mod_data['label'] == 1, :].index\n",
    "pos_indx = np.random.permutation(pos_indx)\n",
    "\n",
    "known_labels_ratio = 0.3\n",
    "pos_sample_len = int(known_labels_ratio * len(pos_indx))\n",
    "\n",
    "print(f'Using {pos_sample_len}/{len(pos_indx)} as positives and unlabeling the rest')\n",
    "pos_sample = pos_indx[:pos_sample_len]"
   ]
  },
  {
   "cell_type": "code",
   "execution_count": 12,
   "id": "2945ec39-e9e1-4855-b312-e85bc7b1f55c",
   "metadata": {},
   "outputs": [
    {
     "name": "stdout",
     "output_type": "stream",
     "text": [
      "target variable:\n",
      " -1    90\n",
      " 1    10\n",
      "Name: class_test, dtype: int64\n"
     ]
    }
   ],
   "source": [
    "mod_data['class_test'] = -1\n",
    "mod_data.loc[pos_sample, 'class_test'] = 1\n",
    "print('target variable:\\n', mod_data.iloc[:,-1].value_counts())"
   ]
  },
  {
   "cell_type": "code",
   "execution_count": 13,
   "id": "42d41aed-2722-428a-a240-1550d77a079c",
   "metadata": {},
   "outputs": [],
   "source": [
    "mod_data = mod_data.sample(frac = 1)\n",
    "\n",
    "data_N = mod_data.loc[mod_data['class_test'] == -1]\n",
    "data_P = mod_data.loc[mod_data['class_test'] == 1]\n",
    "\n",
    "neg_sample = data_N.iloc[:data_P.shape[0]]\n",
    "pos_sample = data_P.copy()\n",
    "#sample_test = data_N.iloc[data_P.shape[0]:]\n",
    "sample_train = pd.concat([neg_sample, pos_sample]).sample(frac=1)"
   ]
  },
  {
   "cell_type": "code",
   "execution_count": 14,
   "id": "db6d04ee-3064-4e93-80b8-8259069acd36",
   "metadata": {},
   "outputs": [
    {
     "name": "stdout",
     "output_type": "stream",
     "text": [
      "Classification results:\n",
      "f1: 85.71%\n",
      "recall: 75.00%\n",
      "precision: 100.00%\n"
     ]
    }
   ],
   "source": [
    "clf_rns = GradientBoostingClassifier(random_state = 42)\n",
    "\n",
    "sample_train.loc[sample_train['class_test'] == -1, 'class_test'] = 0\n",
    "\n",
    "clf_rns.fit(sample_train.drop(columns=['class_test', 'label']), \n",
    "          sample_train['class_test'])\n",
    "\n",
    "y_test_pred = clf_rns.predict(X_test)\n",
    "evaluate_results(y_test, y_test_pred)\n"
   ]
  },
  {
   "cell_type": "code",
   "execution_count": 15,
   "id": "97ff0d9e-8ba4-41a5-9075-8b36db7fc241",
   "metadata": {},
   "outputs": [],
   "source": [
    "f_list.append(f1_score(y_test, y_test_pred))\n",
    "r_list.append(recall_score(y_test, y_test_pred))\n",
    "p_list.append(precision_score(y_test, y_test_pred))"
   ]
  },
  {
   "cell_type": "code",
   "execution_count": 16,
   "id": "86f89898-418e-45b9-84c5-5f66314fa275",
   "metadata": {},
   "outputs": [
    {
     "data": {
      "text/html": [
       "<div>\n",
       "<style scoped>\n",
       "    .dataframe tbody tr th:only-of-type {\n",
       "        vertical-align: middle;\n",
       "    }\n",
       "\n",
       "    .dataframe tbody tr th {\n",
       "        vertical-align: top;\n",
       "    }\n",
       "\n",
       "    .dataframe thead th {\n",
       "        text-align: right;\n",
       "    }\n",
       "</style>\n",
       "<table border=\"1\" class=\"dataframe\">\n",
       "  <thead>\n",
       "    <tr style=\"text-align: right;\">\n",
       "      <th></th>\n",
       "      <th>f1</th>\n",
       "      <th>recall</th>\n",
       "      <th>precision</th>\n",
       "    </tr>\n",
       "  </thead>\n",
       "  <tbody>\n",
       "    <tr>\n",
       "      <th>Supervised-learning</th>\n",
       "      <td>0.967742</td>\n",
       "      <td>0.9375</td>\n",
       "      <td>1.0</td>\n",
       "    </tr>\n",
       "    <tr>\n",
       "      <th>PU-learning</th>\n",
       "      <td>0.857143</td>\n",
       "      <td>0.7500</td>\n",
       "      <td>1.0</td>\n",
       "    </tr>\n",
       "  </tbody>\n",
       "</table>\n",
       "</div>"
      ],
      "text/plain": [
       "                           f1  recall  precision\n",
       "Supervised-learning  0.967742  0.9375        1.0\n",
       "PU-learning          0.857143  0.7500        1.0"
      ]
     },
     "execution_count": 16,
     "metadata": {},
     "output_type": "execute_result"
    }
   ],
   "source": [
    "results = pd.DataFrame({'f1': f_list, 'recall': r_list, 'precision': p_list}, columns = ['f1', 'recall', 'precision'] ,index = ['Supervised-learning', 'PU-learning'])\n",
    "results"
   ]
  },
  {
   "cell_type": "code",
   "execution_count": null,
   "id": "5c063bb2-746d-4674-8c6d-fdb711a7ed5d",
   "metadata": {},
   "outputs": [],
   "source": []
  }
 ],
 "metadata": {
  "kernelspec": {
   "display_name": "Python 3",
   "language": "python",
   "name": "python3"
  },
  "language_info": {
   "codemirror_mode": {
    "name": "ipython",
    "version": 3
   },
   "file_extension": ".py",
   "mimetype": "text/x-python",
   "name": "python",
   "nbconvert_exporter": "python",
   "pygments_lexer": "ipython3",
   "version": "3.8.5"
  }
 },
 "nbformat": 4,
 "nbformat_minor": 5
}
