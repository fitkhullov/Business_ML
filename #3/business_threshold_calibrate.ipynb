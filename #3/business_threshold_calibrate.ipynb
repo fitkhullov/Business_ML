{
 "cells": [
  {
   "cell_type": "code",
   "execution_count": 1,
   "id": "b99f555a-0320-46bc-80fc-8fd6f42a8b96",
   "metadata": {},
   "outputs": [],
   "source": [
    "import numpy as np\n",
    "import pandas as pd\n",
    "import matplotlib.pyplot as plt\n",
    "\n",
    "from sklearn.feature_extraction.text import TfidfVectorizer\n",
    "from sklearn.linear_model import LogisticRegression\n",
    "from sklearn.model_selection import cross_val_score, train_test_split\n",
    "from scipy.sparse import hstack\n",
    "from sklearn.pipeline import Pipeline, make_pipeline, FeatureUnion\n",
    "from sklearn.base import BaseEstimator, TransformerMixin\n",
    "from sklearn.preprocessing import StandardScaler\n",
    "\n",
    "from sklearn.metrics import precision_recall_curve, roc_curve, roc_auc_score"
   ]
  },
  {
   "cell_type": "markdown",
   "id": "66ccde04-88e7-4620-97b2-2987b7113014",
   "metadata": {},
   "source": [
    "$$\\text{Plot Confusion Matrix}$$"
   ]
  },
  {
   "cell_type": "code",
   "execution_count": 2,
   "id": "1c06e2f9-57a1-4bf2-beaa-35ea3201a742",
   "metadata": {
    "jupyter": {
     "source_hidden": true
    },
    "tags": []
   },
   "outputs": [],
   "source": [
    "def plot_confusion_matrix(cm, classes,\n",
    "                          normalize=False,\n",
    "                          title='Confusion matrix',\n",
    "                          cmap=plt.cm.Blues):\n",
    "    \"\"\"\n",
    "    This function prints and plots the confusion matrix.\n",
    "    Normalization can be applied by setting `normalize=True`.\n",
    "    \"\"\"\n",
    "    plt.imshow(cm, interpolation='nearest', cmap=cmap)\n",
    "    plt.title(title)\n",
    "    plt.colorbar()\n",
    "    tick_marks = np.arange(len(classes))\n",
    "    plt.xticks(tick_marks, classes, rotation=45)\n",
    "    plt.yticks(tick_marks, classes)\n",
    "\n",
    "    if normalize:\n",
    "        cm = cm.astype('float') / cm.sum(axis=1)[:, np.newaxis]\n",
    "        print(\"Normalized confusion matrix\")\n",
    "    else:\n",
    "        print('Confusion matrix, without normalization')\n",
    "\n",
    "    print(cm)\n",
    "\n",
    "    thresh = cm.max() / 2.\n",
    "    for i, j in itertools.product(range(cm.shape[0]), range(cm.shape[1])):\n",
    "        plt.text(j, i, cm[i, j],\n",
    "                 horizontalalignment=\"center\",\n",
    "                 color=\"white\" if cm[i, j] > thresh else \"black\")\n",
    "\n",
    "    plt.tight_layout()\n",
    "    plt.ylabel('True label')\n",
    "    plt.xlabel('Predicted label')"
   ]
  },
  {
   "cell_type": "markdown",
   "id": "9d968977-e361-49af-bb02-f1f4b745666c",
   "metadata": {},
   "source": [
    "$$\\text{ColumnSelector, NumberSelector, OHEEncoder}$$"
   ]
  },
  {
   "cell_type": "code",
   "execution_count": 3,
   "id": "5d6918e4-6fdb-4702-806c-823cef0650a0",
   "metadata": {
    "jupyter": {
     "source_hidden": true
    },
    "tags": []
   },
   "outputs": [],
   "source": [
    "class ColumnSelector(BaseEstimator, TransformerMixin):\n",
    "    \"\"\"\n",
    "    Transformer to select a single column from the data frame to perform additional transformations on\n",
    "    \"\"\"\n",
    "    def __init__(self, key):\n",
    "        self.key = key\n",
    "\n",
    "    def fit(self, X, y=None):\n",
    "        return self\n",
    "\n",
    "    def transform(self, X):\n",
    "        return X[self.key]\n",
    "    \n",
    "class NumberSelector(BaseEstimator, TransformerMixin):\n",
    "    \"\"\"\n",
    "    Transformer to select a single column from the data frame to perform additional transformations on\n",
    "    Use on numeric columns in the data\n",
    "    \"\"\"\n",
    "    def __init__(self, key):\n",
    "        self.key = key\n",
    "\n",
    "    def fit(self, X, y=None):\n",
    "        return self\n",
    "\n",
    "    def transform(self, X):\n",
    "        return X[[self.key]]\n",
    "    \n",
    "class OHEEncoder(BaseEstimator, TransformerMixin):\n",
    "    def __init__(self, key):\n",
    "        self.key = key\n",
    "        self.columns = []\n",
    "\n",
    "    def fit(self, X, y=None):\n",
    "        self.columns = [col for col in pd.get_dummies(X, prefix=self.key).columns]\n",
    "        return self\n",
    "\n",
    "    def transform(self, X):\n",
    "        X = pd.get_dummies(X, prefix=self.key)\n",
    "        test_columns = [col for col in X.columns]\n",
    "        for col_ in self.columns:\n",
    "            if col_ not in test_columns:\n",
    "                X[col_] = 0\n",
    "        return X[self.columns]"
   ]
  },
  {
   "cell_type": "markdown",
   "id": "c985ec02-13bc-4d81-90e8-48bb34e57e34",
   "metadata": {},
   "source": [
    "$$\\text{Business Threshold Calibrate}$$"
   ]
  },
  {
   "cell_type": "code",
   "execution_count": 4,
   "id": "b7d2cecb-5d9a-4b8d-8fb8-8115a35b878e",
   "metadata": {
    "jupyter": {
     "source_hidden": true
    },
    "tags": []
   },
   "outputs": [],
   "source": [
    "def business_threshold_calibrate(y_test, y_test_pred, rubl_test=100, rubl_early_treatment=100, rubl_late_treatment=1000):\n",
    "    business_threshold = 0\n",
    "\n",
    "    rubl_ML_ = float('inf')\n",
    "\n",
    "    rs = []\n",
    "    n = 100\n",
    "    for opt_buisness_tr in np.linspace(0, 1, n).tolist():\n",
    "        # подберем порог для улучшения бизнесс показателя\n",
    "\n",
    "        cnf_matrix = confusion_matrix(y_test, y_test_pred > (opt_buisness_tr))\n",
    "        TN = cnf_matrix[0][0]\n",
    "        FN = cnf_matrix[1][0]\n",
    "        TP = cnf_matrix[1][1]\n",
    "        FP = cnf_matrix[0][1]\n",
    "\n",
    "        rubl_ML = (TP + FP) * rubl_test + FN * rubl_late_treatment + TP * rubl_early_treatment\n",
    "        \n",
    "        if rubl_ML < rubl_ML_:            \n",
    "            business_threshold = opt_buisness_tr\n",
    "            \n",
    "            rubl_ML_ = rubl_ML\n",
    "            \n",
    "        rs.append(rubl_ML)   \n",
    "            \n",
    "    print('расходы, если использовать МЛ:', rubl_ML_)  \n",
    "\n",
    "    plt.figure(figsize = (10, 7))\n",
    "    plt.title('Потери при МЛ решении')\n",
    "    plt.xlabel('Отсечка')\n",
    "    plt.ylabel('Потери')\n",
    "    plt.plot(np.linspace(0,1,n), rs)\n",
    "    plt.show()\n",
    "    return business_threshold"
   ]
  },
  {
   "cell_type": "code",
   "execution_count": 5,
   "id": "8c137c0b-6568-41a6-ac13-78facd9adbdc",
   "metadata": {},
   "outputs": [],
   "source": [
    "df = pd.read_csv('train_case2.csv', ';')"
   ]
  },
  {
   "cell_type": "code",
   "execution_count": 6,
   "id": "972b01ea-b440-49a8-a277-6893fd83809b",
   "metadata": {},
   "outputs": [],
   "source": [
    "X_train, X_test, y_train, y_test = train_test_split(df.drop(columns='cardio'), \n",
    "                                                    df['cardio'], random_state=0)"
   ]
  },
  {
   "cell_type": "code",
   "execution_count": 7,
   "id": "d136d874-361c-4ce1-b564-00f535f6743d",
   "metadata": {},
   "outputs": [],
   "source": [
    "continuos_cols = ['age', 'height', 'weight', 'ap_hi', 'ap_lo']\n",
    "cat_cols = ['gender', 'cholesterol']\n",
    "base_cols = ['gluc', 'smoke', 'alco', 'active']\n",
    "\n",
    "continuos_transformers = []\n",
    "cat_transformers = []\n",
    "base_transformers = []\n",
    "\n",
    "for cont_col in continuos_cols:\n",
    "    transfomer =  Pipeline([\n",
    "                ('selector', NumberSelector(key=cont_col)),\n",
    "                ('standard', StandardScaler())\n",
    "            ])\n",
    "    continuos_transformers.append((cont_col, transfomer))\n",
    "    \n",
    "for cat_col in cat_cols:\n",
    "    cat_transformer = Pipeline([\n",
    "                ('selector', ColumnSelector(key=cat_col)),\n",
    "                ('ohe', OHEEncoder(key=cat_col))\n",
    "            ])\n",
    "    cat_transformers.append((cat_col, cat_transformer))\n",
    "    \n",
    "for base_col in base_cols:\n",
    "    base_transformer = Pipeline([\n",
    "                ('selector', NumberSelector(key=base_col))\n",
    "            ])\n",
    "    base_transformers.append((base_col, base_transformer))"
   ]
  },
  {
   "cell_type": "code",
   "execution_count": 8,
   "id": "ef8f0f4b-dfc0-4fb7-ac48-fcb72964cf70",
   "metadata": {},
   "outputs": [],
   "source": [
    "feats = FeatureUnion(continuos_transformers+cat_transformers+base_transformers)\n",
    "feature_processing = Pipeline([('feats', feats)])"
   ]
  },
  {
   "cell_type": "markdown",
   "id": "48912fe6-4c15-403c-bb27-bff4a3bd4545",
   "metadata": {},
   "source": [
    "### Task №1-5"
   ]
  },
  {
   "cell_type": "code",
   "execution_count": 9,
   "id": "f3f48af1-154a-481b-bd75-da36ea7d7e80",
   "metadata": {},
   "outputs": [],
   "source": [
    "from sklearn.tree import DecisionTreeClassifier\n",
    "from sklearn.ensemble import RandomForestClassifier, GradientBoostingClassifier\n",
    "from sklearn.metrics import confusion_matrix"
   ]
  },
  {
   "cell_type": "code",
   "execution_count": 10,
   "id": "5afbdea8-38f5-4cc9-848f-76e874b789d7",
   "metadata": {},
   "outputs": [],
   "source": [
    "models = ['LogisticRegression', 'DecisionTreeClassifier', 'RandomForestClassifier', 'GradientBoostingClassifier']"
   ]
  },
  {
   "cell_type": "code",
   "execution_count": 11,
   "id": "721b8f9d-7879-4ba0-9858-d8f6976986b6",
   "metadata": {},
   "outputs": [
    {
     "data": {
      "text/html": [
       "<div>\n",
       "<style scoped>\n",
       "    .dataframe tbody tr th:only-of-type {\n",
       "        vertical-align: middle;\n",
       "    }\n",
       "\n",
       "    .dataframe tbody tr th {\n",
       "        vertical-align: top;\n",
       "    }\n",
       "\n",
       "    .dataframe thead th {\n",
       "        text-align: right;\n",
       "    }\n",
       "</style>\n",
       "<table border=\"1\" class=\"dataframe\">\n",
       "  <thead>\n",
       "    <tr style=\"text-align: right;\">\n",
       "      <th></th>\n",
       "      <th>Threshold</th>\n",
       "      <th>F-score</th>\n",
       "      <th>Precision</th>\n",
       "      <th>Recall</th>\n",
       "      <th>ROC-AUC</th>\n",
       "      <th>Full cost</th>\n",
       "      <th>ML cost</th>\n",
       "      <th>Relative difference</th>\n",
       "    </tr>\n",
       "  </thead>\n",
       "  <tbody>\n",
       "    <tr>\n",
       "      <th>LogisticRegression</th>\n",
       "      <td>0.386937</td>\n",
       "      <td>0.730323</td>\n",
       "      <td>0.647431</td>\n",
       "      <td>0.837558</td>\n",
       "      <td>0.784035</td>\n",
       "      <td>154700000</td>\n",
       "      <td>152974200</td>\n",
       "      <td>0.011156</td>\n",
       "    </tr>\n",
       "    <tr>\n",
       "      <th>DecisionTreeClassifier</th>\n",
       "      <td>0.000000</td>\n",
       "      <td>0.663102</td>\n",
       "      <td>0.496000</td>\n",
       "      <td>1.000000</td>\n",
       "      <td>0.635325</td>\n",
       "      <td>154700000</td>\n",
       "      <td>158370000</td>\n",
       "      <td>-0.023723</td>\n",
       "    </tr>\n",
       "    <tr>\n",
       "      <th>RandomForestClassifier</th>\n",
       "      <td>0.350000</td>\n",
       "      <td>0.718863</td>\n",
       "      <td>0.642669</td>\n",
       "      <td>0.815553</td>\n",
       "      <td>0.771037</td>\n",
       "      <td>154700000</td>\n",
       "      <td>153699400</td>\n",
       "      <td>0.006468</td>\n",
       "    </tr>\n",
       "    <tr>\n",
       "      <th>GradientBoostingClassifier</th>\n",
       "      <td>0.394947</td>\n",
       "      <td>0.740248</td>\n",
       "      <td>0.697848</td>\n",
       "      <td>0.788134</td>\n",
       "      <td>0.802615</td>\n",
       "      <td>154700000</td>\n",
       "      <td>153122800</td>\n",
       "      <td>0.010195</td>\n",
       "    </tr>\n",
       "  </tbody>\n",
       "</table>\n",
       "</div>"
      ],
      "text/plain": [
       "                            Threshold   F-score  Precision    Recall  \\\n",
       "LogisticRegression           0.386937  0.730323   0.647431  0.837558   \n",
       "DecisionTreeClassifier       0.000000  0.663102   0.496000  1.000000   \n",
       "RandomForestClassifier       0.350000  0.718863   0.642669  0.815553   \n",
       "GradientBoostingClassifier   0.394947  0.740248   0.697848  0.788134   \n",
       "\n",
       "                             ROC-AUC  Full cost    ML cost  \\\n",
       "LogisticRegression          0.784035  154700000  152974200   \n",
       "DecisionTreeClassifier      0.635325  154700000  158370000   \n",
       "RandomForestClassifier      0.771037  154700000  153699400   \n",
       "GradientBoostingClassifier  0.802615  154700000  153122800   \n",
       "\n",
       "                            Relative difference  \n",
       "LogisticRegression                     0.011156  \n",
       "DecisionTreeClassifier                -0.023723  \n",
       "RandomForestClassifier                 0.006468  \n",
       "GradientBoostingClassifier             0.010195  "
      ]
     },
     "execution_count": 11,
     "metadata": {},
     "output_type": "execute_result"
    }
   ],
   "source": [
    "t_list, f_list, p_list, r_list, roc_list, rubl_list, full_test = [], [], [], [], [], [], []\n",
    "rubl_test = 1400\n",
    "rubl_early_treatment = 15000\n",
    "rubl_late_treatment = 20000\n",
    "\n",
    "for model in models:\n",
    "    classifier = Pipeline([('features', feats), ('classifier', eval(model+'(random_state = 42)'))])    \n",
    "    classifier.fit(X_train, y_train)\n",
    "    \n",
    "    y_test_pred = classifier.predict_proba(X_test)[:, 1]\n",
    "    \n",
    "    precision, recall, thresholds = precision_recall_curve(y_test, y_test_pred)\n",
    "    precision, recall = precision[:-1], recall[:-1]\n",
    "\n",
    "    nzm_prec = precision != 0\n",
    "    nzm_rec = recall != 0\n",
    "    nzm = nzm_prec * nzm_rec\n",
    "\n",
    "    precision, recall, thresholds = precision[nzm], recall[nzm], thresholds[nzm]\n",
    "\n",
    "    fscore = (2 * precision * recall) / (precision + recall)\n",
    "\n",
    "    ix = np.argmax(fscore)\n",
    "    t_list.append(thresholds[ix])\n",
    "    f_list.append(fscore[ix]) \n",
    "    p_list.append(precision[ix])\n",
    "    r_list.append(recall[ix])\n",
    "    roc_list.append(roc_auc_score(y_test, y_test_pred))\n",
    "    \n",
    "    \n",
    "    cnf_matrix = confusion_matrix(y_test, y_test_pred > thresholds[ix])\n",
    "    \n",
    "    TN = cnf_matrix[0][0]\n",
    "    FN = cnf_matrix[1][0]\n",
    "    TP = cnf_matrix[1][1]\n",
    "    FP = cnf_matrix[0][1]\n",
    "    \n",
    "    rubl_ML = (FP + TP) * rubl_test + FN * rubl_late_treatment + TP * rubl_early_treatment\n",
    "    rubl_test_all = np.sum(cnf_matrix) * rubl_test + (FN + TP) * rubl_early_treatment\n",
    "    rubl_list.append(rubl_ML)\n",
    "    full_test.append(rubl_test_all)\n",
    "\n",
    "\n",
    "results = pd.DataFrame({'Threshold': t_list,\n",
    "                        'F-score': f_list,\n",
    "                        'Precision': p_list,\n",
    "                        'Recall': r_list,\n",
    "                        'ROC-AUC': roc_list,\n",
    "                        'Full cost': full_test,\n",
    "                        'ML cost': rubl_list}, index = models, columns = ['Threshold', 'F-score', 'Precision', 'Recall', 'ROC-AUC', 'Full cost', 'ML cost'])\n",
    "\n",
    "results['Relative difference'] = (results['Full cost'] - results['ML cost'])/results['Full cost']\n",
    "results\n",
    "\n"
   ]
  },
  {
   "cell_type": "markdown",
   "id": "de05ec9e-4ad5-4603-85e0-fba29b342550",
   "metadata": {},
   "source": [
    "* Модель <b>LogisticRegression</b> справилась с задачей лучше остальных (при дефолтных параметрах модели)."
   ]
  },
  {
   "cell_type": "code",
   "execution_count": 12,
   "id": "e5460712-f9f1-43f0-9f3b-655a84ca028f",
   "metadata": {},
   "outputs": [
    {
     "name": "stdout",
     "output_type": "stream",
     "text": [
      "Full test: 154700000\n",
      "ML test: 152974200\n"
     ]
    }
   ],
   "source": [
    "classifier = Pipeline([('features', feats), ('classifier', LogisticRegression(random_state = 42))])    \n",
    "classifier.fit(X_train, y_train)\n",
    "\n",
    "y_test_pred = classifier.predict_proba(X_test)[:, 1]\n",
    "\n",
    "\n",
    "precision, recall, thresholds = precision_recall_curve(y_test, y_test_pred)\n",
    "precision, recall = precision[:-1], recall[:-1]\n",
    "\n",
    "nzm_prec = precision != 0\n",
    "nzm_rec = recall != 0\n",
    "nzm = nzm_prec * nzm_rec\n",
    "\n",
    "precision, recall, thresholds = precision[nzm], recall[nzm], thresholds[nzm]\n",
    "\n",
    "fscore = (2 * precision * recall) / (precision + recall)\n",
    "\n",
    "ix = np.argmax(fscore)\n",
    "\n",
    "cnf_matrix = confusion_matrix(y_test, y_test_pred > thresholds[ix])\n",
    "\n",
    "TN = cnf_matrix[0][0]\n",
    "FN = cnf_matrix[1][0]\n",
    "TP = cnf_matrix[1][1]\n",
    "FP = cnf_matrix[0][1]\n",
    "\n",
    "rubl_ML = (FP + TP) * rubl_test + FN * rubl_late_treatment + TP * rubl_early_treatment\n",
    "rubl_test_all = np.sum(cnf_matrix) * rubl_test + (FN + TP) * rubl_early_treatment\n",
    "print(f'Full test: {rubl_test_all}')\n",
    "print(f'ML test: {rubl_ML}')"
   ]
  },
  {
   "cell_type": "code",
   "execution_count": 13,
   "id": "c96f353a-5f18-4ea7-81b1-16b7df25add8",
   "metadata": {},
   "outputs": [
    {
     "name": "stdout",
     "output_type": "stream",
     "text": [
      "расходы, если использовать МЛ: 152642200\n"
     ]
    },
    {
     "data": {
      "image/png": "[encoded data removed]",
      "text/plain": [
       "<Figure size 720x504 with 1 Axes>"
      ]
     },
     "metadata": {
      "needs_background": "light"
     },
     "output_type": "display_data"
    },
    {
     "name": "stdout",
     "output_type": "stream",
     "text": [
      "уровень порога по бизнес метрике 0.343\n",
      "уровень порога по f1 метрике 0.387\n"
     ]
    }
   ],
   "source": [
    "busines_tr = business_threshold_calibrate(y_test, y_test_pred,\n",
    "                                          rubl_test=1400, \n",
    "                                          rubl_early_treatment=15000, \n",
    "                                          rubl_late_treatment=20000)\n",
    "\n",
    "print(f'уровень порога по бизнес метрике {busines_tr:.3f}')\n",
    "print(f'уровень порога по f1 метрике {thresholds[ix]:.3f}')"
   ]
  },
  {
   "cell_type": "code",
   "execution_count": null,
   "id": "71748fb7-b862-407d-b280-9ff2954eac78",
   "metadata": {},
   "outputs": [],
   "source": []
  }
 ],
 "metadata": {
  "kernelspec": {
   "display_name": "Python 3",
   "language": "python",
   "name": "python3"
  },
  "language_info": {
   "codemirror_mode": {
    "name": "ipython",
    "version": 3
   },
   "file_extension": ".py",
   "mimetype": "text/x-python",
   "name": "python",
   "nbconvert_exporter": "python",
   "pygments_lexer": "ipython3",
   "version": "3.8.5"
  }
 },
 "nbformat": 4,
 "nbformat_minor": 5
}
