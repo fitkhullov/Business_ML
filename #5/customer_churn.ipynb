{
 "cells": [
  {
   "cell_type": "code",
   "execution_count": 1,
   "id": "f1d5529f-43f4-4cc8-b3e1-9b5c945982cd",
   "metadata": {},
   "outputs": [],
   "source": [
    "import pandas as pd\n",
    "import numpy as np\n",
    "import itertools\n",
    "import matplotlib.pyplot as plt\n",
    "\n",
    "from sklearn.pipeline import Pipeline, FeatureUnion, make_pipeline\n",
    "from sklearn.base import BaseEstimator, TransformerMixin\n",
    "from sklearn.linear_model import LogisticRegression\n",
    "from sklearn.model_selection import train_test_split\n",
    "from sklearn.metrics import f1_score, roc_auc_score, precision_score, classification_report, precision_recall_curve, confusion_matrix\n",
    "\n",
    "%matplotlib inline"
   ]
  },
  {
   "cell_type": "markdown",
   "id": "c0a6214e-998f-4271-a58d-8180befae9a3",
   "metadata": {},
   "source": [
    "$$\\text{FeatureSelector, NumberSelector, OHEEncoder}$$"
   ]
  },
  {
   "cell_type": "code",
   "execution_count": 2,
   "id": "5538f286-6c74-4a53-b34b-d48521426c26",
   "metadata": {
    "jupyter": {
     "source_hidden": true
    },
    "tags": []
   },
   "outputs": [],
   "source": [
    "class FeatureSelector(BaseEstimator, TransformerMixin):\n",
    "    def __init__(self, column):\n",
    "        self.column = column\n",
    "\n",
    "    def fit(self, X, y=None):\n",
    "        return self\n",
    "\n",
    "    def transform(self, X, y=None):\n",
    "        return X[self.column]\n",
    "    \n",
    "\n",
    "class NumberSelector(BaseEstimator, TransformerMixin):\n",
    "    def __init__(self, key):\n",
    "        self.key = key\n",
    "\n",
    "    def fit(self, X, y=None):\n",
    "        return self\n",
    "\n",
    "    def transform(self, X):\n",
    "        return X[[self.key]]\n",
    "    \n",
    "    \n",
    "class OHEEncoder(BaseEstimator, TransformerMixin):\n",
    "    def __init__(self, key):\n",
    "        self.key = key\n",
    "        self.columns = []\n",
    "\n",
    "    def fit(self, X, y=None):\n",
    "        self.columns = [col for col in pd.get_dummies(X, prefix=self.key).columns]\n",
    "        return self\n",
    "\n",
    "    def transform(self, X):\n",
    "        X = pd.get_dummies(X, prefix=self.key)\n",
    "        test_columns = [col for col in X.columns]\n",
    "        \n",
    "        for col_ in self.columns:\n",
    "            if col_ not in test_columns:\n",
    "                X[col_] = 0\n",
    "        return X[self.columns]"
   ]
  },
  {
   "cell_type": "markdown",
   "id": "8d8e4fb4-820d-44f6-a6a3-6d3b9df5bc6e",
   "metadata": {},
   "source": [
    "$$\\text{Business Threshold Calibrate}$$"
   ]
  },
  {
   "cell_type": "code",
   "execution_count": 22,
   "id": "b6c5dc79-c7eb-4f7b-83b4-fc553730d5ec",
   "metadata": {
    "jupyter": {
     "source_hidden": true
    },
    "tags": []
   },
   "outputs": [],
   "source": [
    "def business_threshold_calibrate(y_test, y_test_pred, retention_cost = 1, income_cost = 2):\n",
    "    \n",
    "    business_threshold = 0\n",
    "    total_revenue_max = float('-inf')\n",
    "\n",
    "    rs = []\n",
    "    n = 100\n",
    "    for opt_buisness_tr in np.linspace(0, 1, n):\n",
    "        # подберем порог для улучшения бизнесс показателя\n",
    "\n",
    "        cnf_matrix = confusion_matrix(y_test, y_test_pred > (opt_buisness_tr))\n",
    "        TP = cnf_matrix[1][1]\n",
    "        FP = cnf_matrix[0][1]\n",
    "\n",
    "        retain_sum = (FP+TP) * retention_cost\n",
    "        income = TP * income_cost\n",
    "        total_revenue = income - retain_sum\n",
    "        \n",
    "        if total_revenue_max < total_revenue:            \n",
    "            business_threshold = opt_buisness_tr\n",
    "            total_revenue_max = total_revenue\n",
    "            \n",
    "        rs.append(total_revenue)\n",
    "\n",
    "    plt.figure(figsize = (10, 7))\n",
    "    plt.title('Потери при МЛ решении')\n",
    "    plt.xlabel('Отсечка')\n",
    "    plt.ylabel('Потери')\n",
    "    plt.plot(np.linspace(0,1,n), rs)\n",
    "    plt.show()\n",
    "    return business_threshold"
   ]
  },
  {
   "cell_type": "code",
   "execution_count": 4,
   "id": "f0a25a57-3cd2-4618-b7f0-6593e59d2508",
   "metadata": {},
   "outputs": [
    {
     "data": {
      "text/html": [
       "<div>\n",
       "<style scoped>\n",
       "    .dataframe tbody tr th:only-of-type {\n",
       "        vertical-align: middle;\n",
       "    }\n",
       "\n",
       "    .dataframe tbody tr th {\n",
       "        vertical-align: top;\n",
       "    }\n",
       "\n",
       "    .dataframe thead th {\n",
       "        text-align: right;\n",
       "    }\n",
       "</style>\n",
       "<table border=\"1\" class=\"dataframe\">\n",
       "  <thead>\n",
       "    <tr style=\"text-align: right;\">\n",
       "      <th></th>\n",
       "      <th>RowNumber</th>\n",
       "      <th>CustomerId</th>\n",
       "      <th>Surname</th>\n",
       "      <th>CreditScore</th>\n",
       "      <th>Geography</th>\n",
       "      <th>Gender</th>\n",
       "      <th>Age</th>\n",
       "      <th>Tenure</th>\n",
       "      <th>Balance</th>\n",
       "      <th>NumOfProducts</th>\n",
       "      <th>HasCrCard</th>\n",
       "      <th>IsActiveMember</th>\n",
       "      <th>EstimatedSalary</th>\n",
       "      <th>Exited</th>\n",
       "    </tr>\n",
       "  </thead>\n",
       "  <tbody>\n",
       "    <tr>\n",
       "      <th>0</th>\n",
       "      <td>1</td>\n",
       "      <td>15634602</td>\n",
       "      <td>Hargrave</td>\n",
       "      <td>619</td>\n",
       "      <td>France</td>\n",
       "      <td>Female</td>\n",
       "      <td>42</td>\n",
       "      <td>2</td>\n",
       "      <td>0.00</td>\n",
       "      <td>1</td>\n",
       "      <td>1</td>\n",
       "      <td>1</td>\n",
       "      <td>101348.88</td>\n",
       "      <td>1</td>\n",
       "    </tr>\n",
       "    <tr>\n",
       "      <th>1</th>\n",
       "      <td>2</td>\n",
       "      <td>15647311</td>\n",
       "      <td>Hill</td>\n",
       "      <td>608</td>\n",
       "      <td>Spain</td>\n",
       "      <td>Female</td>\n",
       "      <td>41</td>\n",
       "      <td>1</td>\n",
       "      <td>83807.86</td>\n",
       "      <td>1</td>\n",
       "      <td>0</td>\n",
       "      <td>1</td>\n",
       "      <td>112542.58</td>\n",
       "      <td>0</td>\n",
       "    </tr>\n",
       "    <tr>\n",
       "      <th>2</th>\n",
       "      <td>3</td>\n",
       "      <td>15619304</td>\n",
       "      <td>Onio</td>\n",
       "      <td>502</td>\n",
       "      <td>France</td>\n",
       "      <td>Female</td>\n",
       "      <td>42</td>\n",
       "      <td>8</td>\n",
       "      <td>159660.80</td>\n",
       "      <td>3</td>\n",
       "      <td>1</td>\n",
       "      <td>0</td>\n",
       "      <td>113931.57</td>\n",
       "      <td>1</td>\n",
       "    </tr>\n",
       "    <tr>\n",
       "      <th>3</th>\n",
       "      <td>4</td>\n",
       "      <td>15701354</td>\n",
       "      <td>Boni</td>\n",
       "      <td>699</td>\n",
       "      <td>France</td>\n",
       "      <td>Female</td>\n",
       "      <td>39</td>\n",
       "      <td>1</td>\n",
       "      <td>0.00</td>\n",
       "      <td>2</td>\n",
       "      <td>0</td>\n",
       "      <td>0</td>\n",
       "      <td>93826.63</td>\n",
       "      <td>0</td>\n",
       "    </tr>\n",
       "    <tr>\n",
       "      <th>4</th>\n",
       "      <td>5</td>\n",
       "      <td>15737888</td>\n",
       "      <td>Mitchell</td>\n",
       "      <td>850</td>\n",
       "      <td>Spain</td>\n",
       "      <td>Female</td>\n",
       "      <td>43</td>\n",
       "      <td>2</td>\n",
       "      <td>125510.82</td>\n",
       "      <td>1</td>\n",
       "      <td>1</td>\n",
       "      <td>1</td>\n",
       "      <td>79084.10</td>\n",
       "      <td>0</td>\n",
       "    </tr>\n",
       "  </tbody>\n",
       "</table>\n",
       "</div>"
      ],
      "text/plain": [
       "   RowNumber  CustomerId   Surname  CreditScore Geography  Gender  Age  \\\n",
       "0          1    15634602  Hargrave          619    France  Female   42   \n",
       "1          2    15647311      Hill          608     Spain  Female   41   \n",
       "2          3    15619304      Onio          502    France  Female   42   \n",
       "3          4    15701354      Boni          699    France  Female   39   \n",
       "4          5    15737888  Mitchell          850     Spain  Female   43   \n",
       "\n",
       "   Tenure    Balance  NumOfProducts  HasCrCard  IsActiveMember  \\\n",
       "0       2       0.00              1          1               1   \n",
       "1       1   83807.86              1          0               1   \n",
       "2       8  159660.80              3          1               0   \n",
       "3       1       0.00              2          0               0   \n",
       "4       2  125510.82              1          1               1   \n",
       "\n",
       "   EstimatedSalary  Exited  \n",
       "0        101348.88       1  \n",
       "1        112542.58       0  \n",
       "2        113931.57       1  \n",
       "3         93826.63       0  \n",
       "4         79084.10       0  "
      ]
     },
     "execution_count": 4,
     "metadata": {},
     "output_type": "execute_result"
    }
   ],
   "source": [
    "df = pd.read_csv(\"Churn_Modelling.csv\")\n",
    "df.head()"
   ]
  },
  {
   "cell_type": "code",
   "execution_count": 5,
   "id": "9d4de342-65e9-4c14-80a6-1a1dd50bf248",
   "metadata": {},
   "outputs": [],
   "source": [
    "X_train, X_test, y_train, y_test = train_test_split(df, df['Exited'], random_state=0)"
   ]
  },
  {
   "cell_type": "code",
   "execution_count": 6,
   "id": "7600bfb5-b25c-4987-b5a4-c66141ec1326",
   "metadata": {},
   "outputs": [],
   "source": [
    "categorical_columns = ['Geography', 'Gender']\n",
    "continuous_columns = ['HasCrCard', 'IsActiveMember', 'Tenure', 'CreditScore', 'Age', 'Balance', 'NumOfProducts', 'EstimatedSalary']"
   ]
  },
  {
   "cell_type": "code",
   "execution_count": 7,
   "id": "f4e02cf3-b307-4973-8161-8a35f1947d17",
   "metadata": {},
   "outputs": [],
   "source": [
    "final_transformers = list()\n",
    "\n",
    "for cat_col in categorical_columns:\n",
    "    cat_transformer = Pipeline([\n",
    "                ('selector', FeatureSelector(column=cat_col)),\n",
    "                ('ohe', OHEEncoder(key=cat_col))\n",
    "            ])\n",
    "    \n",
    "    final_transformers.append((cat_col, cat_transformer))\n",
    "    \n",
    "for cont_col in continuous_columns:\n",
    "    cont_transformer = Pipeline([\n",
    "                ('selector', NumberSelector(key=cont_col))\n",
    "            ])\n",
    "    \n",
    "    final_transformers.append((cont_col, cont_transformer))"
   ]
  },
  {
   "cell_type": "code",
   "execution_count": 8,
   "id": "2e61175e-1d16-4e85-b40d-e1e55308ee27",
   "metadata": {},
   "outputs": [],
   "source": [
    "feats = FeatureUnion(final_transformers)\n",
    "\n",
    "feature_processing = Pipeline([('feats', feats)])"
   ]
  },
  {
   "cell_type": "code",
   "execution_count": 9,
   "id": "7c3ce1a4-36fd-4bf1-8b10-9b1e2679eada",
   "metadata": {},
   "outputs": [],
   "source": [
    "from sklearn.tree import DecisionTreeClassifier\n",
    "from sklearn.ensemble import RandomForestClassifier, GradientBoostingClassifier"
   ]
  },
  {
   "cell_type": "code",
   "execution_count": 10,
   "id": "fd5593b2-0d8e-4d5c-b06d-109aa79f5886",
   "metadata": {},
   "outputs": [],
   "source": [
    "models = ['LogisticRegression', 'DecisionTreeClassifier', 'RandomForestClassifier', 'GradientBoostingClassifier']\n"
   ]
  },
  {
   "cell_type": "code",
   "execution_count": 11,
   "id": "f4e90032-27e0-40d5-8519-91ff06af2408",
   "metadata": {},
   "outputs": [],
   "source": [
    "t_list, f_list, p_list, r_list, roc_list, total = [], [], [], [], [], []"
   ]
  },
  {
   "cell_type": "code",
   "execution_count": 12,
   "id": "d6ee52c6-5454-4159-844a-990196617efc",
   "metadata": {},
   "outputs": [
    {
     "data": {
      "text/html": [
       "<div>\n",
       "<style scoped>\n",
       "    .dataframe tbody tr th:only-of-type {\n",
       "        vertical-align: middle;\n",
       "    }\n",
       "\n",
       "    .dataframe tbody tr th {\n",
       "        vertical-align: top;\n",
       "    }\n",
       "\n",
       "    .dataframe thead th {\n",
       "        text-align: right;\n",
       "    }\n",
       "</style>\n",
       "<table border=\"1\" class=\"dataframe\">\n",
       "  <thead>\n",
       "    <tr style=\"text-align: right;\">\n",
       "      <th></th>\n",
       "      <th>Threshold</th>\n",
       "      <th>F-score</th>\n",
       "      <th>Precision</th>\n",
       "      <th>Recall</th>\n",
       "      <th>ROC-AUC</th>\n",
       "      <th>Total Revenue</th>\n",
       "    </tr>\n",
       "  </thead>\n",
       "  <tbody>\n",
       "    <tr>\n",
       "      <th>LogisticRegression</th>\n",
       "      <td>0.198587</td>\n",
       "      <td>0.410256</td>\n",
       "      <td>0.294521</td>\n",
       "      <td>0.675835</td>\n",
       "      <td>0.665668</td>\n",
       "      <td>-481</td>\n",
       "    </tr>\n",
       "    <tr>\n",
       "      <th>DecisionTreeClassifier</th>\n",
       "      <td>1.000000</td>\n",
       "      <td>0.519337</td>\n",
       "      <td>0.488735</td>\n",
       "      <td>0.554028</td>\n",
       "      <td>0.702930</td>\n",
       "      <td>0</td>\n",
       "    </tr>\n",
       "    <tr>\n",
       "      <th>RandomForestClassifier</th>\n",
       "      <td>0.390000</td>\n",
       "      <td>0.637007</td>\n",
       "      <td>0.656250</td>\n",
       "      <td>0.618861</td>\n",
       "      <td>0.861715</td>\n",
       "      <td>153</td>\n",
       "    </tr>\n",
       "    <tr>\n",
       "      <th>GradientBoostingClassifier</th>\n",
       "      <td>0.329990</td>\n",
       "      <td>0.646154</td>\n",
       "      <td>0.632768</td>\n",
       "      <td>0.660118</td>\n",
       "      <td>0.875087</td>\n",
       "      <td>140</td>\n",
       "    </tr>\n",
       "  </tbody>\n",
       "</table>\n",
       "</div>"
      ],
      "text/plain": [
       "                            Threshold   F-score  Precision    Recall  \\\n",
       "LogisticRegression           0.198587  0.410256   0.294521  0.675835   \n",
       "DecisionTreeClassifier       1.000000  0.519337   0.488735  0.554028   \n",
       "RandomForestClassifier       0.390000  0.637007   0.656250  0.618861   \n",
       "GradientBoostingClassifier   0.329990  0.646154   0.632768  0.660118   \n",
       "\n",
       "                             ROC-AUC  Total Revenue  \n",
       "LogisticRegression          0.665668           -481  \n",
       "DecisionTreeClassifier      0.702930              0  \n",
       "RandomForestClassifier      0.861715            153  \n",
       "GradientBoostingClassifier  0.875087            140  "
      ]
     },
     "execution_count": 12,
     "metadata": {},
     "output_type": "execute_result"
    }
   ],
   "source": [
    "for model in models:\n",
    "    classifier = Pipeline([('features', feats), ('classifier', eval(model+'(random_state = 42)'))])    \n",
    "    classifier.fit(X_train, y_train)\n",
    "    \n",
    "    y_test_pred = classifier.predict_proba(X_test)[:, 1]\n",
    "    \n",
    "    precision, recall, thresholds = precision_recall_curve(y_test, y_test_pred)\n",
    "    precision, recall = precision[:-1], recall[:-1]\n",
    "\n",
    "    nzm_prec = precision != 0\n",
    "    nzm_rec = recall != 0\n",
    "    nzm = nzm_prec * nzm_rec\n",
    "\n",
    "    precision, recall, thresholds = precision[nzm], recall[nzm], thresholds[nzm]\n",
    "\n",
    "    fscore = (2 * precision * recall) / (precision + recall)\n",
    "\n",
    "    ix = np.argmax(fscore)\n",
    "    t_list.append(thresholds[ix])\n",
    "    f_list.append(fscore[ix]) \n",
    "    p_list.append(precision[ix])\n",
    "    r_list.append(recall[ix])\n",
    "    roc_list.append(roc_auc_score(y_test, y_test_pred))\n",
    "    \n",
    "    \n",
    "    cnf_matrix = confusion_matrix(y_test, y_test_pred > thresholds[ix])\n",
    "    \n",
    "    TP = cnf_matrix[1][1]\n",
    "    FP = cnf_matrix[0][1]\n",
    "    \n",
    "    retain_sum = FP+TP\n",
    "    income = TP * 2\n",
    "    total_revenue = income - retain_sum\n",
    "    total.append(total_revenue)\n",
    "\n",
    "\n",
    "results = pd.DataFrame({'Threshold': t_list,\n",
    "                        'F-score': f_list,\n",
    "                        'Precision': p_list,\n",
    "                        'Recall': r_list,\n",
    "                        'ROC-AUC': roc_list,\n",
    "                        'Total Revenue': total}, index = models, columns = ['Threshold', 'F-score', 'Precision', 'Recall', 'ROC-AUC', 'Total Revenue'])\n",
    "results"
   ]
  },
  {
   "cell_type": "markdown",
   "id": "493a9f38-589f-4be1-b837-4b55656c7af9",
   "metadata": {},
   "source": [
    "* Поработаем дальше с моделью случайного леса, т.к. она имеет наибольшую <b>Precision</b>-метрику и позволяет отбить денег чуть больше, чем <b>GradientBoostingClassifier</b>."
   ]
  },
  {
   "cell_type": "code",
   "execution_count": 13,
   "id": "84bfcf19-20f0-4714-9b5a-1cc59d84467e",
   "metadata": {},
   "outputs": [],
   "source": [
    "from sklearn.model_selection import GridSearchCV"
   ]
  },
  {
   "cell_type": "code",
   "execution_count": 14,
   "id": "8ddfec5f-c121-49eb-9884-0ac5964b7bb6",
   "metadata": {},
   "outputs": [],
   "source": [
    "params = {\n",
    "    'classifier__n_estimators': np.arange(10, 110, 10),\n",
    "    'classifier__max_depth': np.arange(5, 20, 5),\n",
    "    'classifier__min_samples_leaf': np.arange(1, 15, 2)\n",
    "}"
   ]
  },
  {
   "cell_type": "code",
   "execution_count": 15,
   "id": "4b33746f-b4b1-4311-860e-54500e861dbf",
   "metadata": {},
   "outputs": [
    {
     "data": {
      "text/plain": [
       "({'classifier__max_depth': 5,\n",
       "  'classifier__min_samples_leaf': 9,\n",
       "  'classifier__n_estimators': 30},\n",
       " 0.8934499245789569)"
      ]
     },
     "execution_count": 15,
     "metadata": {},
     "output_type": "execute_result"
    }
   ],
   "source": [
    "classifier = Pipeline([('features', feats), ('classifier', RandomForestClassifier(random_state=42))])\n",
    "search = GridSearchCV(classifier, n_jobs = -1, param_grid = params, scoring = 'precision', cv = 5)\n",
    "search.fit(X_train, y_train)\n",
    "search.best_params_, search.best_score_"
   ]
  },
  {
   "cell_type": "code",
   "execution_count": 23,
   "id": "1479b1f1-1abc-4cb0-a4a3-dcc6527a52ff",
   "metadata": {},
   "outputs": [],
   "source": [
    "classifier = Pipeline([('features', feats), ('classifier', RandomForestClassifier(max_depth = 5, min_samples_leaf = 9, n_estimators = 30, random_state=42))])\n",
    "classifier.fit(X_train, y_train)\n",
    "y_test_pred = classifier.predict_proba(X_test)[:, 1]\n",
    "\n",
    "precision, recall, thresholds = precision_recall_curve(y_test, y_test_pred)\n",
    "precision, recall = precision[:-1], recall[:-1]\n",
    "\n",
    "nzm_prec = precision != 0\n",
    "nzm_rec = recall != 0\n",
    "nzm = nzm_prec * nzm_rec\n",
    "\n",
    "precision, recall, thresholds = precision[nzm], recall[nzm], thresholds[nzm]\n",
    "\n",
    "fscore = (2 * precision * recall) / (precision + recall)\n",
    "\n",
    "ix = np.argmax(fscore)\n",
    "\n",
    "ml_tr = thresholds[ix]"
   ]
  },
  {
   "cell_type": "code",
   "execution_count": 24,
   "id": "a81d985a-675a-4929-a0cc-0a7fb7835a23",
   "metadata": {},
   "outputs": [
    {
     "data": {
      "image/png": "[encoded data removed]",
      "text/plain": [
       "<Figure size 720x504 with 1 Axes>"
      ]
     },
     "metadata": {
      "needs_background": "light"
     },
     "output_type": "display_data"
    }
   ],
   "source": [
    "business_tr =  business_threshold_calibrate(y_test, y_test_pred, retention_cost = 1, income_cost = 2)"
   ]
  },
  {
   "cell_type": "code",
   "execution_count": 25,
   "id": "e14b6221-74d1-4065-afce-555dd623b6ff",
   "metadata": {},
   "outputs": [],
   "source": [
    "def report(y_test, y_test_pred, tr, retention_cost = 1, income_cost = 2):\n",
    "    cnf_matrix = confusion_matrix(y_test, y_test_pred > tr)\n",
    "    TP = cnf_matrix[1][1]\n",
    "    FP = cnf_matrix[0][1]\n",
    "    retain_sum = (FP + TP) * retention_cost\n",
    "    income = TP * income_cost\n",
    "    total_revenue = income - retain_sum\n",
    "    print(f'Отсечка: {tr} \\tДоход за вычетом трат: {total_revenue}')\n",
    "    return "
   ]
  },
  {
   "cell_type": "code",
   "execution_count": 27,
   "id": "2d7a02b2-3d4f-4594-85ce-30bc981ab0d7",
   "metadata": {},
   "outputs": [
    {
     "name": "stdout",
     "output_type": "stream",
     "text": [
      "Отсечка: 0.27834590057330466 \tДоход за вычетом трат: 118\n",
      "Отсечка: 0.393939393939394 \tДоход за вычетом трат: 178\n"
     ]
    }
   ],
   "source": [
    "report(y_test, y_test_pred, ml_tr)\n",
    "report(y_test, y_test_pred, business_tr)"
   ]
  },
  {
   "cell_type": "code",
   "execution_count": null,
   "id": "38d64c48-2e23-45f2-8532-b938a681376d",
   "metadata": {},
   "outputs": [],
   "source": []
  }
 ],
 "metadata": {
  "kernelspec": {
   "display_name": "Python 3",
   "language": "python",
   "name": "python3"
  },
  "language_info": {
   "codemirror_mode": {
    "name": "ipython",
    "version": 3
   },
   "file_extension": ".py",
   "mimetype": "text/x-python",
   "name": "python",
   "nbconvert_exporter": "python",
   "pygments_lexer": "ipython3",
   "version": "3.8.5"
  }
 },
 "nbformat": 4,
 "nbformat_minor": 5
}
